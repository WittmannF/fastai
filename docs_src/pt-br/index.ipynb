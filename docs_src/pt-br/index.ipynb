{
 "cells": [
  {
   "cell_type": "markdown",
   "metadata": {
    "colab_type": "text",
    "id": "view-in-github"
   },
   "source": [
    "<a href=\"https://colab.research.google.com/github/WittmannF/fastai/blob/docs-portuguese/docs_src/pt-br/index.ipynb\" target=\"_parent\"><img src=\"https://colab.research.google.com/assets/colab-badge.svg\" alt=\"Open In Colab\"/></a>"
   ]
  },
  {
   "cell_type": "markdown",
   "metadata": {
    "colab_type": "text",
    "id": "lyGOXeA203on"
   },
   "source": [
    "# Bem-vindo à fastai"
   ]
  },
  {
   "cell_type": "code",
   "execution_count": 1,
   "metadata": {
    "colab": {},
    "colab_type": "code",
    "hide_input": true,
    "id": "vorvWY-v03os"
   },
   "outputs": [],
   "source": [
    "from fastai.vision import *\n",
    "from fastai.gen_doc.nbdoc import *\n",
    "from fastai.core import *\n",
    "from fastai.basic_train import *"
   ]
  },
  {
   "cell_type": "markdown",
   "metadata": {
    "colab_type": "text",
    "id": "D3qgZCN203ox"
   },
   "source": [
    "A biblioteca fastai simplifica o treinamento de redes neurais de forma rapida e precisa utilizando melhores práticas modernas. É baseada em pesquisas sobre aprendizagem profunda (deep learning) empreendidas pela [fast.ai](http://www.fast.ai), incluindo suporte para modelos de [visão](/vision.html#vision), [texto](/text.html#text), [tabular](/tabular.html#tabular) e [collab](/collab.html#collab) (filtragem colaborativa). Se você estiver procurando pelo código fonte, acesse o [repositório da fastai](https://github.com/fastai/fastai) no GitHub. Para breves exemplos, veja a pasta [exemplos](https://github.com/fastai/fastai/tree/master/examples); exemplos detalhados são fornecidos na documentação completa (veja a barra lateral). Por exemplo, um modelo MNIST usando [resnet18](https://arxiv.org/abs/1512.03385) pode ser treinado da seguinte forma (retirado da [documentação de visão](https://github.com/fastai/fastai/blob/master/examples/vision.ipynb)):"
   ]
  },
  {
   "cell_type": "code",
   "execution_count": 2,
   "metadata": {
    "colab": {
     "base_uri": "https://localhost:8080/",
     "height": 80
    },
    "colab_type": "code",
    "id": "vshEQOQA03oy",
    "outputId": "3c93fe5d-f179-49a4-e659-998567649da0"
   },
   "outputs": [
    {
     "data": {
      "text/html": [
       "Total time: 03:07 <p><table border=\"1\" class=\"dataframe\">\n",
       "  <thead>\n",
       "    <tr style=\"text-align: left;\">\n",
       "      <th>epoch</th>\n",
       "      <th>train_loss</th>\n",
       "      <th>valid_loss</th>\n",
       "      <th>accuracy</th>\n",
       "      <th>time</th>\n",
       "    </tr>\n",
       "  </thead>\n",
       "  <tbody>\n",
       "    <tr>\n",
       "      <td>0</td>\n",
       "      <td>0.138801</td>\n",
       "      <td>0.090428</td>\n",
       "      <td>0.968106</td>\n",
       "      <td>03:07</td>\n",
       "    </tr>\n",
       "  </tbody>\n",
       "</table>"
      ],
      "text/plain": [
       "<IPython.core.display.HTML object>"
      ]
     },
     "metadata": {},
     "output_type": "display_data"
    }
   ],
   "source": [
    "path = untar_data(URLs.MNIST_SAMPLE)\n",
    "data = ImageDataBunch.from_folder(path)\n",
    "learn = cnn_learner(data, models.resnet18, metrics=accuracy)\n",
    "learn.fit(1)"
   ]
  },
  {
   "cell_type": "code",
   "execution_count": 3,
   "metadata": {
    "colab": {
     "base_uri": "https://localhost:8080/",
     "height": 34
    },
    "colab_type": "code",
    "hide_input": true,
    "id": "1D3ir5rs03o3",
    "outputId": "3c4b4ca9-1f9d-4686-fa18-386ddb21a3d1"
   },
   "outputs": [
    {
     "data": {
      "text/markdown": [
       "<div markdown=\"span\" class=\"alert alert-info\" role=\"alert\"><i class=\"fa fa-info-circle\"></i> <b>Note: </b>Esta documentação é toda construída a partir de cadernos (notebook) do jupyter;\n",
       "isto significa que você pode experimentar qualquer código em qualquer caderno por conta própria!\n",
       "Você pode encontrar os cadernos na pasta <a href=\"https://github.com/fastai/fastai/tree/master/docs_src\">docs_src</a> do repositório da \n",
       "<a href=\"https://github.com/fastai/fastai\">fastai</a>. Por exemplo,\n",
       "<a href=\"https://nbviewer.jupyter.org/github/fastai/fastai/blob/master/docs_src/index.ipynb\">aqui</a>\n",
       "esta o caderno fonte do que você está lendo agora.</div>"
      ],
      "text/plain": [
       "<IPython.core.display.Markdown object>"
      ]
     },
     "metadata": {},
     "output_type": "display_data"
    }
   ],
   "source": [
    "jekyll_note(\"\"\"Esta documentação é toda construída a partir de cadernos (notebook) do jupyter;\n",
    "isto significa que você pode experimentar qualquer código em qualquer caderno por conta própria!\n",
    "Você pode encontrar os cadernos na pasta <a href=\"https://github.com/fastai/fastai/tree/master/docs_src\">docs_src</a> do repositório da \n",
    "<a href=\"https://github.com/fastai/fastai\">fastai</a>. Por exemplo,\n",
    "<a href=\"https://nbviewer.jupyter.org/github/fastai/fastai/blob/master/docs_src/index.ipynb\">aqui</a>\n",
    "esta o caderno fonte do que você está lendo agora.\"\"\")"
   ]
  },
  {
   "cell_type": "markdown",
   "metadata": {
    "colab_type": "text",
    "id": "1L4d_SbM03pA"
   },
   "source": [
    "## Instalação e atualização"
   ]
  },
  {
   "cell_type": "markdown",
   "metadata": {
    "colab_type": "text",
    "id": "eXXck3rT03pB"
   },
   "source": [
    "Para instalar ou atualizar a biblioteca fastai, recomendamos o `conda`:\n",
    "\n",
    "```\n",
    "conda install -c pytorch -c fastai fastai \n",
    "```\n",
    "Para solução de problemas e instalações alternativas (incluindo pip e opções apenas de CPU) veja o [fastai readme](https://github.com/fastai/fastai/blob/master/README.md)."
   ]
  },
  {
   "cell_type": "markdown",
   "metadata": {
    "colab_type": "text",
    "id": "vZ7rgSml03pC"
   },
   "source": [
    "## Lendo a documentação"
   ]
  },
  {
   "cell_type": "markdown",
   "metadata": {
    "colab_type": "text",
    "id": "n2kGTl_603pE"
   },
   "source": [
    "Para começar rapidamente, clique *Aplicações* na barra lateral, e em seguida, escolha a aplicação que você tenha interesse. Isso o levará para um passo-a-passo do treinamento de um modelo desta aplicação. Você pode então ou explorar os várias links a partir de lá, ou ainda mergulhar mais profundamente nos vários módulos da fastai.\n",
    "\n",
    "Nós fornecemos abaixo um breve resumo dos principais módulos nesta biblioteca. Para detalhes sobre cada uma, use a barra lateral para encontrar o módulo que você tenha interesse. Cada módulo inclui uma visão geral e exemplo de como usá-lo, juntamente com a documentação para cada classe, função e método. Por exemplo, a documentação da API tem uma aparência semelhante à seguinte:\n",
    "\n",
    "### Uma função exemplo"
   ]
  },
  {
   "cell_type": "code",
   "execution_count": 4,
   "metadata": {
    "colab": {
     "base_uri": "https://localhost:8080/",
     "height": 183
    },
    "colab_type": "code",
    "hide_input": true,
    "id": "ZM4i0GUz03pF",
    "outputId": "7dd97f2f-6d99-4fee-cc5b-68e313703fee"
   },
   "outputs": [
    {
     "data": {
      "text/markdown": [
       "<h4 id=\"rotate\" class=\"doc_header\"><code>rotate</code><a href=\"https://github.com/fastai/fastai/blob/master/fastai/vision/transform.py#L25\" class=\"source_link\" style=\"float:right\">[source]</a><a class=\"source_link\" data-toggle=\"collapse\" data-target=\"#rotate-pytest\" style=\"float:right; padding-right:10px\">[test]</a></h4>\n",
       "\n",
       "> <code>rotate</code>(**`degrees`**:[`uniform`](/torch_core.html#uniform)) → [`Image`](/vision.image.html#Image) :: [`TfmAffine`](/vision.image.html#TfmAffine)\n",
       "\n",
       "<div class=\"collapse\" id=\"rotate-pytest\"><div class=\"card card-body pytest_card\"><a type=\"button\" data-toggle=\"collapse\" data-target=\"#rotate-pytest\" class=\"close\" aria-label=\"Close\"><span aria-hidden=\"true\">&times;</span></a><p>Tests found for <code>rotate</code>:</p><ul><li><code>pytest -sv tests/test_vision_transform.py::test_deterministic_transforms</code> <a href=\"https://github.com/fastai/fastai/blob/master/tests/test_vision_transform.py#L111\" class=\"source_link\" style=\"float:right\">[source]</a></li></ul><p>To run tests please refer to this <a href=\"/dev/test.html#quick-guide\">guide</a>.</p></div></div>\n",
       "\n",
       "Rotate image by `degrees`.  "
      ],
      "text/plain": [
       "<IPython.core.display.Markdown object>"
      ]
     },
     "metadata": {},
     "output_type": "display_data"
    }
   ],
   "source": [
    "show_doc(rotate, full_name='rotate')"
   ]
  },
  {
   "cell_type": "markdown",
   "metadata": {
    "colab_type": "text",
    "id": "Pp3w-1F303pI"
   },
   "source": [
    "---\n",
    "O tipo de cada parâmetro, e o tipo de retorno, são apresentados usando a sintaxe padronizada do Python [type hint](https://www.python.org/dev/peps/pep-0484/). Às vezes, para tipos de variáveis compostas, utilizaremos [type variables](/fastai_typing.html). Tipos que são definidos pela fastai ou Pytorch possuirão links para obter mais informações sobre aquele tipo; por exemplo, experimente clicar em *Image* na função acima. O docstring para o símbolo é mostrado imediatamente após a assinatura, juntamente com um link para o código-fonte para o símbolo no GitHub. Após a assinatura básica e DocString você encontrará exemplos e detalhes adicionais (não mostrados neste exemplo). Como você verá no topo da página, todos os símbolos documentados como esta também aparecem na tabela de conteúdos.\n",
    "Para classes herdadas e alguns tipos de função decorada, a classe ou tipo de base decorador também será mostrado no fim da assinatura, delimitado por `::`. Para `vision.transforms`, o gerador de números aleatórios utilizados para o aumento de dados é mostrado em vez do tipo, para os parâmetros gerados aleatoriamente."
   ]
  },
  {
   "cell_type": "markdown",
   "metadata": {
    "colab_type": "text",
    "id": "a6O2tjKu03pK"
   },
   "source": [
    "## Estrutura do módulo"
   ]
  },
  {
   "cell_type": "markdown",
   "metadata": {
    "colab_type": "text",
    "id": "yYr57E5l03pL"
   },
   "source": [
    "### importações"
   ]
  },
  {
   "cell_type": "markdown",
   "metadata": {
    "colab_type": "text",
    "id": "Hjramc5103pM"
   },
   "source": [
    "fastai é projetado para suportar tanto computação interativa, bem como o desenvolvimento de software tradicional. Para computação interativa, onde a conveniência e velocidade de experimentação é uma prioridade, os cientistas de dados muitas vezes preferem importar todos os módulos que eles precisam de uma só vez, com `import *`. Portanto, fastai foi concebido para apoiar esta abordagem, sem comprometer a capacidade de manutenção e compreensão.\n",
    "A fim de fazer isso, as dependências de cada módulo são cuidadosamente controladas (veja a seção seguinte), com cada exportação de um conjunto de módulos escolhidos com cuidado quando se utiliza `import *`. Em geral, para computação interativa, para testar os módulos principais e o loop treinamento, que você pode fazer\n",
    "```\n",
    "from fastai.basics import *\n",
    "```\n",
    "Se você quiser experimentar uma das aplicações, por exemplo visão, você pode fazer\n",
    "```\n",
    "from fastai.vision import *\n",
    "```"
   ]
  },
  {
   "cell_type": "markdown",
   "metadata": {
    "colab_type": "text",
    "id": "R9yzadgM03pN"
   },
   "source": [
    "Isso lhe dará todos os módulos padrão externos que você precisa, em seus namespaces habituais (por exemplo `pandas as pd`, ` numpy as np`, `matplotlib.pyplot as plt`), além do núcleo bibliotecas fastai. Além disso, as principais classes e funções para a sua aplicação ([`fastai.vision`](/vision.html#vision), neste caso), por exemplo, a criação de um [`DataBunch`](/basic_data.html#DataBunch) de uma pasta de imagem e treinamento de uma rede neural convolutional (com [`cnn_learner`](/vision.learner.html#cnn_learner)), também são importados. Se você não deseja importar qualquer aplicação, mas quero que todos a principal funcionalidade do fastai, use `from fastai.basics import *`. Claro, você também pode simplesmente importar os símbolos específicos que você precisa, sem o uso de `import *`.\n",
    "Se você deseja ver onde um símbolo é importado do, ou apenas digite o nome do símbolo (em um REPL como Jupyter Notebook ou IPython), ou (na maioria dos editores) Onda o mouse sobre o símbolo para ver a definição. Por exemplo:"
   ]
  },
  {
   "cell_type": "code",
   "execution_count": 5,
   "metadata": {
    "colab": {
     "base_uri": "https://localhost:8080/",
     "height": 34
    },
    "colab_type": "code",
    "id": "BVe4Y0vm03pN",
    "outputId": "891829fd-e8f0-4280-dc0a-5a1ed91ad75a"
   },
   "outputs": [
    {
     "data": {
      "text/plain": [
       "fastai.basic_train.Learner"
      ]
     },
     "execution_count": 5,
     "metadata": {},
     "output_type": "execute_result"
    }
   ],
   "source": [
    "Learner"
   ]
  },
  {
   "cell_type": "markdown",
   "metadata": {
    "colab_type": "text",
    "id": "DTJxzKWe03pQ"
   },
   "source": [
    "### Dependências"
   ]
  },
  {
   "cell_type": "markdown",
   "metadata": {
    "colab_type": "text",
    "id": "Rb_7fM2L03pR"
   },
   "source": [
    "Na base de tudo temos dois módulos: [`core`](/core.html#core) e [`torch_core`](/torch_core.html#torch_core) (não estamos incluindo o `prefixo fastai.` ao nomear os módulos nestes docs). Eles definem as funções básicas que usamos na biblioteca; [`core`](/core.html#core) só se baseia em módulos genéricos, enquanto [`torch_core`](/torch_core.html#torch_core) requer pytorch. As abreviações de módulos clássicos também estão definidas lá. Quase todos os módulos abaixo importam [`torch_core`](/torch_core.html#torch_core).\n",
    "\n",
    "Há três módulos diretamente no topo de [`torch_core`](/torch_core.html#torch_core):\n",
    "- [`basic_data`](/basic_data.html#basic_data), que contém a classe que vai pegar um [`Dataset`](https://pytorch.org/docs/stable/data.html#torch.utils.data.Dataset) ou um [`DataLoader`](https://pytorch.org/docs/stable/data.html#torch.utils.data.DataLoader) do pytorch para envolvê-lo em um [`DeviceDataLoader`](/basic_data.html#DeviceDataLoader) (uma classe que fica no topo de um [`DataLoader`](https://pytorch.org/docs/stable/data.html#torch.utils.data.DataLoader) e é responsável por colocar os dados no dispositivo correto, assim como a aplicação de transformações tais como normalização) e, em seguida, reagrupa-o em um [`DataBunch`](/basic_data.html#DataBunch).\n",
    "- [`layers`](/layers.html#layers), o qual contém funções básicas para definir camadas customizadas ou grupos de camadas\n",
    "- [`metrics`](/metrics.html#metrics), no qual contém todas as métricas\n",
    "\n",
    "Estes módulos cuidam do básico, em seguida reagrupamos um modelo com alguns dados em um objeto [`Learner`](/basic_train.html#Learner) para cuidar do treinamento. Mais especificamente:\n",
    "- [`callback`](/callback.html#callback) (depende do módulo [`basic_data`](/basic_data.html#basic_data), ) define a base dos *callbacks* e o [`CallbackHandler`](/callback.html#CallbackHandler). Essas são funções que serão chamadas a cada passo no loop de treinamento e nos permitem personalizar o que está acontecendo lá;\n",
    "- [`basic_train`](/basic_train.html#basic_train) (depende do módulo [`callback`](/callback.html#callback), ) define o [`Learner`](/basic_train.html#Learner) e o [`Recorder`](/basic_train.html#Recorder) (que é um callback que registra informações do treinamento) e contém o loop de treinamento;\n",
    "- [`callbacks`](/callbacks.html#callbacks) (depende [`basic_train`](/basic_train.html#basic_train)) é um sub-módulo definindo vários callbacks, como por exemplo para treinamento de precisão mista ou *annealing* de um ciclo;\n",
    "- [`train`](/train.html#train) (depende de [`callbacks`](/callbacks.html#callbacks), ) define funções auxiliares para invocar os callbacks mais facilmente.\n",
    "\n",
    "A partir do módulo [`basic_data`](/basic_data.html#basic_data) podemos subdividi-lo em quatro aplicações, cada uma com seu próprio módulo: [`vision`](/vision.html#vision), [`text`](/text.html#text), [`collab`](/collab.html#collab), ou [`tabular`](/tabular.html#tabular). Cada um desses sub-módulos é construído da mesma forma com:\n",
    "- um sub-módulo chamado `transform` que lida com transformações nos dados (augmentação de dados de visão computacional, numericalização e tokenização para dados de texto e pré-processamentos para dados tabulares)\n",
    "- um sub-módulo chamado `data` que contém a classe que irá criar conjuntos de dados específicos para a aplicação escolhida e funções auxiliares para criar objetos [`DataBunch`](/basic_data.html#DataBunch).\n",
    "- um sub-módulo chamado `models` que contém os modelos específicos as aplicações.\n",
    "- opcionalmente, um sub-módulo chamado `{aplicação}.learner` que conterá um [`Learner`](/basic_train.html#Learner) específico para a aplicação.\n",
    "Aqui está um gráfico das dependências principais do módulo:"
   ]
  },
  {
   "cell_type": "markdown",
   "metadata": {
    "colab_type": "text",
    "id": "RUOtaSJQ03pS"
   },
   "source": [
    "![dependencies](../imgs/dependencies.svg)"
   ]
  },
  {
   "cell_type": "code",
   "execution_count": 0,
   "metadata": {
    "colab": {},
    "colab_type": "code",
    "id": "jpR-hWeL3SfB"
   },
   "outputs": [],
   "source": []
  }
 ],
 "metadata": {
  "accelerator": "GPU",
  "colab": {
   "include_colab_link": true,
   "name": "index.ipynb",
   "provenance": []
  },
  "jekyll": {
   "keywords": "fastai",
   "toc": "false"
  },
  "kernelspec": {
   "display_name": "Python 3",
   "language": "python",
   "name": "python3"
  },
  "language_info": {
   "codemirror_mode": {
    "name": "ipython",
    "version": 3
   },
   "file_extension": ".py",
   "mimetype": "text/x-python",
   "name": "python",
   "nbconvert_exporter": "python",
   "pygments_lexer": "ipython3",
   "version": "3.7.1"
  }
 },
 "nbformat": 4,
 "nbformat_minor": 1
}
